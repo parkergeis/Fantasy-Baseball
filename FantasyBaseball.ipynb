{
 "cells": [
  {
   "cell_type": "code",
   "execution_count": 1,
   "metadata": {},
   "outputs": [],
   "source": [
    "# MLB Import\n",
    "from espn_api.baseball import League\n",
    "import espn_api\n",
    "import pandas as pd\n",
    "import warnings\n",
    "import datetime\n",
    "import os\n",
    "today = datetime.date.today()\n",
    "year = today.year\n",
    "warnings.filterwarnings('ignore')\n",
    "pd.set_option(\"display.max_columns\", None)\n",
    "pd.set_option('display.max_colwidth', None)"
   ]
  },
  {
   "cell_type": "code",
   "execution_count": 2,
   "metadata": {},
   "outputs": [],
   "source": [
    "# Initializing league\n",
    "league = League(league_id=929702235, year=2024, swid='5479be06-0e9f-49de-b677-cf8a388a3723', espn_s2='AECG5emtArOlIVusvFSalUmzw1PS5YdPit0EsHfFjMqmVKWmypzFMZ25NYOZ4FDUtj%2B7bVL2s55sZzJW8D7eEoFP4mFWRX9dA65s4DqbT7uKfX%2B7ld5AWgf7pM9qrbVU3PUNnt%2BCb2Aqmwqc%2BiZj8SD5xXAVXXBQuAY5UN6i%2B%2BeMT%2BgfGM3MFI7v2zH7cd85%2BOos82rHMD34i9LUkMpJTftCpsRMwgrG9MZyvxKTSahcI4X7t2%2BJjfcFaD9z7hyastRCz2xBpWvtSVbxNNgyXxbn')"
   ]
  },
  {
   "cell_type": "code",
   "execution_count": 3,
   "metadata": {},
   "outputs": [],
   "source": [
    "# Previous week\n",
    "last_full_week = league.currentMatchupPeriod-1"
   ]
  },
  {
   "cell_type": "code",
   "execution_count": 4,
   "metadata": {},
   "outputs": [],
   "source": [
    "all_stats = []  # To store all stats for each week\n",
    "\n",
    "for j in range(last_full_week):\n",
    "    box = league.box_scores(j + 1)\n",
    "    for i in range(6):\n",
    "        # Get home team stats\n",
    "        home_team = box[i].home_team\n",
    "        home_stats = pd.DataFrame.from_dict(box[i].home_stats)\n",
    "        home_stats.insert(0, 'Team', box[i].home_team)\n",
    "        home_stats.insert(1, 'Opponent', box[i].away_team)\n",
    "        \n",
    "        # Get away team stats\n",
    "        away_team = box[i].away_team\n",
    "        away_stats = pd.DataFrame.from_dict(box[i].away_stats)\n",
    "        away_stats.insert(0, 'Team', box[i].away_team)\n",
    "        away_stats.insert(1, 'Opponent', box[i].home_team)\n",
    "        \n",
    "        # Concatenate home and away stats\n",
    "        df = pd.concat([home_stats, away_stats], ignore_index=False)\n",
    "        \n",
    "        # Clean the team names\n",
    "        df['Opponent'] = df['Opponent'].astype(str)\n",
    "        df['Team'] = df['Team'].astype(str)\n",
    "        df['Opponent'] = df['Opponent'].str.replace('Team(', '').str.replace(')', '', regex=False)\n",
    "        df['Team'] = df['Team'].str.replace('Team(', '').str.replace(')', '', regex=False)\n",
    "        \n",
    "        # Add week information\n",
    "        df.insert(0, 'Week', j + 1)\n",
    "        \n",
    "        # Append to the list\n",
    "        all_stats.append(df)\n",
    "\n",
    "# Combine all stats into a single DataFrame\n",
    "final_df = pd.concat(all_stats, ignore_index=False)\n",
    "\n",
    "# Assuming 'value' and 'result' columns need to be separated as shown before\n",
    "stats = final_df.loc['value']\n",
    "results = final_df.loc['result'].dropna(axis=1)\n",
    "\n",
    "# Reset indexes\n",
    "stats.reset_index(drop=True, inplace=True)\n",
    "results.reset_index(drop=True, inplace=True)"
   ]
  },
  {
   "cell_type": "code",
   "execution_count": 5,
   "metadata": {},
   "outputs": [],
   "source": [
    "# Combining results and stats\n",
    "\n",
    "final_df = results\n",
    "final_df.insert(3, 'HR_val', stats['HR'])\n",
    "final_df.insert(5, 'WHIP_val', stats['WHIP'])\n",
    "final_df.insert(7, 'ERA_val', stats['ERA'])\n",
    "final_df.insert(9, 'K_val', stats['K'])\n",
    "final_df.insert(11, 'OBP_val', stats['OBP'])\n",
    "final_df.insert(13, 'SVHD_val', stats['SV']+stats['HLD'])\n",
    "final_df.insert(15, 'R_val', stats['R'])\n",
    "final_df.insert(17, 'RBI_val', stats['RBI'])\n",
    "final_df.insert(19, 'W_val', stats['W'])\n",
    "final_df.insert(21, 'SB_val', stats['SB'])"
   ]
  },
  {
   "cell_type": "code",
   "execution_count": 6,
   "metadata": {},
   "outputs": [],
   "source": [
    "# final_df.to_excel('WeeklyData.xlsx', index=False)"
   ]
  },
  {
   "cell_type": "code",
   "execution_count": 7,
   "metadata": {},
   "outputs": [],
   "source": [
    "temp = stats[['Team', 'R', 'HR', 'RBI', 'SB', 'K', 'W', 'SVHD']]\n",
    "seasonStats = temp.groupby('Team').sum()\n",
    "temp = stats[['Team', 'OBP', 'ERA', 'WHIP']]\n",
    "mean_stats = temp.groupby('Team').mean()\n",
    "seasonStats.insert(3, 'OBP', mean_stats.OBP)\n",
    "seasonStats.insert(6, 'ERA', mean_stats.ERA)\n",
    "seasonStats.insert(7, 'WHIP', mean_stats.WHIP)"
   ]
  },
  {
   "cell_type": "code",
   "execution_count": 28,
   "metadata": {},
   "outputs": [],
   "source": [
    "# Previous year standings\n",
    "history = []\n",
    "rosters = []\n",
    "records = []\n",
    "for i in range(2021, year+1):\n",
    "    league = League(league_id=929702235, year=i, swid='5479be06-0e9f-49de-b677-cf8a388a3723', espn_s2='AECG5emtArOlIVusvFSalUmzw1PS5YdPit0EsHfFjMqmVKWmypzFMZ25NYOZ4FDUtj%2B7bVL2s55sZzJW8D7eEoFP4mFWRX9dA65s4DqbT7uKfX%2B7ld5AWgf7pM9qrbVU3PUNnt%2BCb2Aqmwqc%2BiZj8SD5xXAVXXBQuAY5UN6i%2B%2BeMT%2BgfGM3MFI7v2zH7cd85%2BOos82rHMD34i9LUkMpJTftCpsRMwgrG9MZyvxKTSahcI4X7t2%2BJjfcFaD9z7hyastRCz2xBpWvtSVbxNNgyXxbn')\n",
    "    standings = league.standings()\n",
    "    df = pd.DataFrame(standings)\n",
    "    df2 = pd.DataFrame()\n",
    "    df.rename(columns={0: \"Team\"}, inplace=True)\n",
    "    df['Team'] = df['Team'].astype('str')\n",
    "    df['Team'] = df['Team'].str.replace('Team(', '').str.replace(')', '', regex=False)\n",
    "    df['Rank'] = range(1,len(league.teams)+1)\n",
    "    df['Year'] = i\n",
    "    for j in range(0, len(league.teams)):\n",
    "        team = league.teams[j]\n",
    "        df2 = pd.DataFrame(team.roster)\n",
    "        df2['Year'] = i\n",
    "        df2['Team'] = team.team_name\n",
    "        df2.rename(columns={0: \"Player\"}, inplace=True)\n",
    "        df2['Player'] = df2['Player'].astype('str')\n",
    "        df2['Player'] = df2['Player'].str.replace('Player(', '').str.replace(')', '', regex=False)\n",
    "        rosters.append(df2)\n",
    "\n",
    "        team = league.teams[j]\n",
    "        temp = pd.DataFrame({\n",
    "            'Year': [i],\n",
    "            'Wins': [team.wins],\n",
    "            'Losses': [team.losses],\n",
    "            'Ties': [team.ties],\n",
    "            'Team': [team.team_name],\n",
    "            'Owner': [team.owners[0]['firstName'] + \" \" + team.owners[0]['lastName']]\n",
    "        }, index=[0])  # Specify an index\n",
    "        records.append(temp)\n",
    "        \n",
    "    history.append(df)\n",
    "\n",
    "temp1 = pd.concat(history, ignore_index=True)\n",
    "temp2 = pd.concat(records, ignore_index=True)\n",
    "final_df2 = pd.merge(temp1, temp2, on=['Team', 'Year'])\n",
    "final_df2['Points'] = final_df2['Wins'] + (0.5*final_df2['Ties'])\n",
    "final_df3 = pd.concat(rosters, ignore_index=True)"
   ]
  },
  {
   "cell_type": "code",
   "execution_count": 9,
   "metadata": {},
   "outputs": [],
   "source": [
    "# os.chdir('/Users/parkergeis/Library/CloudStorage/OneDrive-WesternGovernorsUniversity/Apps/Microsoft Power Query/Uploaded Files')\n",
    "# with pd.ExcelWriter('FantasyData.xlsx') as writer:  \n",
    "#     final_df.to_excel(writer, sheet_name='WeeklyData', index=False)\n",
    "#     final_df2.to_excel(writer, sheet_name='PreviousStandings', index=False)\n",
    "#     final_df3.to_excel(writer, sheet_name='Rosters', index=False)"
   ]
  },
  {
   "cell_type": "code",
   "execution_count": 10,
   "metadata": {},
   "outputs": [
    {
     "name": "stdout",
     "output_type": "stream",
     "text": [
      "    def _fetch_players(self):\n",
      "        data = self.espn_request.get_pro_players()\n",
      "        # Map all player id's to player name\n",
      "        for player in data:\n",
      "            # two way map to find playerId's by name\n",
      "            self.player_map[player['id']] = player['fullName']\n",
      "            # if two players have the same fullname use first one for now TODO update for multiple player names\n",
      "            if player['fullName'] not in self.player_map:\n",
      "                self.player_map[player['fullName']] = player['id']\n"
     ]
    },
    {
     "data": {
      "text/plain": [
       "507"
      ]
     },
     "execution_count": 10,
     "metadata": {},
     "output_type": "execute_result"
    }
   ],
   "source": [
    "import inspect as i\n",
    "import sys\n",
    "sys.stdout.write(i.getsource(league._fetch_players))"
   ]
  },
  {
   "cell_type": "code",
   "execution_count": 27,
   "metadata": {},
   "outputs": [
    {
     "data": {
      "text/plain": [
       "'Parker Geis'"
      ]
     },
     "execution_count": 27,
     "metadata": {},
     "output_type": "execute_result"
    }
   ],
   "source": [
    "team.owners[0]['firstName'] + \" \" + team.owners[0]['lastName']"
   ]
  },
  {
   "cell_type": "code",
   "execution_count": null,
   "metadata": {},
   "outputs": [],
   "source": []
  }
 ],
 "metadata": {
  "kernelspec": {
   "display_name": "base",
   "language": "python",
   "name": "python3"
  },
  "language_info": {
   "codemirror_mode": {
    "name": "ipython",
    "version": 3
   },
   "file_extension": ".py",
   "mimetype": "text/x-python",
   "name": "python",
   "nbconvert_exporter": "python",
   "pygments_lexer": "ipython3",
   "version": "3.11.7"
  }
 },
 "nbformat": 4,
 "nbformat_minor": 2
}
